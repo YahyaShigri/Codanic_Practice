{
 "cells": [
  {
   "cell_type": "code",
   "execution_count": 2,
   "metadata": {},
   "outputs": [
    {
     "name": "stdout",
     "output_type": "stream",
     "text": [
      "Collecting nbformat\n",
      "  Using cached nbformat-5.9.2-py3-none-any.whl.metadata (3.4 kB)\n",
      "Collecting fastjsonschema (from nbformat)\n",
      "  Using cached fastjsonschema-2.19.1-py3-none-any.whl.metadata (2.1 kB)\n",
      "Collecting jsonschema>=2.6 (from nbformat)\n",
      "  Downloading jsonschema-4.21.1-py3-none-any.whl.metadata (7.8 kB)\n",
      "Requirement already satisfied: jupyter-core in c:\\users\\yahya\\.conda\\envs\\python_ml\\lib\\site-packages (from nbformat) (5.7.1)\n",
      "Requirement already satisfied: traitlets>=5.1 in c:\\users\\yahya\\.conda\\envs\\python_ml\\lib\\site-packages (from nbformat) (5.14.1)\n",
      "Collecting attrs>=22.2.0 (from jsonschema>=2.6->nbformat)\n",
      "  Using cached attrs-23.2.0-py3-none-any.whl.metadata (9.5 kB)\n",
      "Collecting jsonschema-specifications>=2023.03.6 (from jsonschema>=2.6->nbformat)\n",
      "  Using cached jsonschema_specifications-2023.12.1-py3-none-any.whl.metadata (3.0 kB)\n",
      "Collecting referencing>=0.28.4 (from jsonschema>=2.6->nbformat)\n",
      "  Downloading referencing-0.33.0-py3-none-any.whl.metadata (2.7 kB)\n",
      "Collecting rpds-py>=0.7.1 (from jsonschema>=2.6->nbformat)\n",
      "  Downloading rpds_py-0.17.1-cp311-none-win_amd64.whl.metadata (4.2 kB)\n",
      "Requirement already satisfied: platformdirs>=2.5 in c:\\users\\yahya\\.conda\\envs\\python_ml\\lib\\site-packages (from jupyter-core->nbformat) (4.2.0)\n",
      "Requirement already satisfied: pywin32>=300 in c:\\users\\yahya\\.conda\\envs\\python_ml\\lib\\site-packages (from jupyter-core->nbformat) (306)\n",
      "Using cached nbformat-5.9.2-py3-none-any.whl (77 kB)\n",
      "Downloading jsonschema-4.21.1-py3-none-any.whl (85 kB)\n",
      "   ---------------------------------------- 0.0/85.5 kB ? eta -:--:--\n",
      "   -------------- ------------------------- 30.7/85.5 kB 1.4 MB/s eta 0:00:01\n",
      "   -------------- ------------------------- 30.7/85.5 kB 1.4 MB/s eta 0:00:01\n",
      "   -------------------------------------- - 81.9/85.5 kB 573.4 kB/s eta 0:00:01\n",
      "   ---------------------------------------- 85.5/85.5 kB 482.6 kB/s eta 0:00:00\n",
      "Using cached fastjsonschema-2.19.1-py3-none-any.whl (23 kB)\n",
      "Using cached attrs-23.2.0-py3-none-any.whl (60 kB)\n",
      "Using cached jsonschema_specifications-2023.12.1-py3-none-any.whl (18 kB)\n",
      "Downloading referencing-0.33.0-py3-none-any.whl (26 kB)\n",
      "Downloading rpds_py-0.17.1-cp311-none-win_amd64.whl (205 kB)\n",
      "   ---------------------------------------- 0.0/205.9 kB ? eta -:--:--\n",
      "   --------------- ------------------------ 81.9/205.9 kB 4.8 MB/s eta 0:00:01\n",
      "   --------------- ------------------------ 81.9/205.9 kB 4.8 MB/s eta 0:00:01\n",
      "   ----------------- --------------------- 92.2/205.9 kB 525.1 kB/s eta 0:00:01\n",
      "   -------------------------- ----------- 143.4/205.9 kB 774.0 kB/s eta 0:00:01\n",
      "   -------------------------- ----------- 143.4/205.9 kB 774.0 kB/s eta 0:00:01\n",
      "   ----------------------------------- -- 194.6/205.9 kB 620.6 kB/s eta 0:00:01\n",
      "   -------------------------------------- 205.9/205.9 kB 570.4 kB/s eta 0:00:00\n",
      "Installing collected packages: fastjsonschema, rpds-py, attrs, referencing, jsonschema-specifications, jsonschema, nbformat\n",
      "Successfully installed attrs-23.2.0 fastjsonschema-2.19.1 jsonschema-4.21.1 jsonschema-specifications-2023.12.1 nbformat-5.9.2 referencing-0.33.0 rpds-py-0.17.1\n",
      "Note: you may need to restart the kernel to use updated packages.\n"
     ]
    }
   ],
   "source": [
    "pip install --upgrade nbformat\n"
   ]
  },
  {
   "cell_type": "code",
   "execution_count": 1,
   "metadata": {},
   "outputs": [
    {
     "name": "stderr",
     "output_type": "stream",
     "text": [
      "C:\\Users\\Yahya\\AppData\\Local\\Temp\\ipykernel_14160\\555797462.py:1: DeprecationWarning: \n",
      "Pyarrow will become a required dependency of pandas in the next major release of pandas (pandas 3.0),\n",
      "(to allow more performant data types, such as the Arrow string type, and better interoperability with other libraries)\n",
      "but was not found to be installed on your system.\n",
      "If this would cause problems for you,\n",
      "please provide us feedback at https://github.com/pandas-dev/pandas/issues/54466\n",
      "        \n",
      "  import pandas as pd\n"
     ]
    }
   ],
   "source": [
    "import pandas as pd\n",
    "import numpy as np\n",
    "import matplotlib.pyplot as plt\n",
    "import seaborn as sns"
   ]
  },
  {
   "cell_type": "code",
   "execution_count": null,
   "metadata": {},
   "outputs": [],
   "source": [
    "import pandas as pd"
   ]
  }
 ],
 "metadata": {
  "kernelspec": {
   "display_name": "python_ml",
   "language": "python",
   "name": "python3"
  },
  "language_info": {
   "codemirror_mode": {
    "name": "ipython",
    "version": 3
   },
   "file_extension": ".py",
   "mimetype": "text/x-python",
   "name": "python",
   "nbconvert_exporter": "python",
   "pygments_lexer": "ipython3",
   "version": "3.11.7"
  }
 },
 "nbformat": 4,
 "nbformat_minor": 2
}
