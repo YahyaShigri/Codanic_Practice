{
 "cells": [
  {
   "cell_type": "code",
   "execution_count": 4,
   "metadata": {},
   "outputs": [
    {
     "name": "stdout",
     "output_type": "stream",
     "text": [
      "Order 101 added successfully.\n",
      "Order 102 added successfully.\n",
      "\n",
      "All Orders:\n",
      "Order ID: 101\n",
      "Customer ID: 1\n",
      "Customer Name: John Doe\n",
      "Date: 2022-02-01\n",
      "------------------------\n",
      "Order ID: 102\n",
      "Customer ID: 2\n",
      "Customer Name: Jane Smith\n",
      "Date: 2022-02-02\n",
      "------------------------\n",
      "\n",
      "\n",
      "Order Details for Order ID 101:\n",
      "{'customer_id': 1, 'customer_name': 'John Doe', 'order_id': 101, 'date': '2022-02-01'}\n"
     ]
    }
   ],
   "source": [
    "class BakeryManagementSystem:\n",
    "    def __init__(self):\n",
    "        self.orders = {}\n",
    "\n",
    "    def add_order(self, customer_id, customer_name, order_id, date):\n",
    "        if order_id not in self.orders:\n",
    "            self.orders[order_id] = {'customer_id': customer_id, 'customer_name': customer_name, 'order_id': order_id, 'date': date}\n",
    "            print(f\"Order {order_id} added successfully.\")\n",
    "        else:\n",
    "            print(f\"Order {order_id} already exists. Please choose a different order ID.\")\n",
    "\n",
    "    def get_order_details(self, order_id):\n",
    "        return self.orders.get(order_id)\n",
    "\n",
    "    def view_all_orders(self):\n",
    "        print(\"\\nAll Orders:\")\n",
    "        for order_id, order_details in self.orders.items():\n",
    "            print(f\"Order ID: {order_id}\\nCustomer ID: {order_details['customer_id']}\\nCustomer Name: {order_details['customer_name']}\\nDate: {order_details['date']}\\n------------------------\")\n",
    "        print(\"No orders available.\" if not self.orders else \"\")\n",
    "\n",
    "# Example usage\n",
    "bakery_system = BakeryManagementSystem()\n",
    "\n",
    "# Adding orders\n",
    "bakery_system.add_order(1, 'John Doe', 101, '2022-02-01')\n",
    "bakery_system.add_order(2, 'Jane Smith', 102, '2022-02-02')\n",
    "\n",
    "# Viewing all orders\n",
    "bakery_system.view_all_orders()\n",
    "\n",
    "# Retrieving order details by order ID\n",
    "order_id_to_search = 101\n",
    "order_details = bakery_system.get_order_details(order_id_to_search)\n",
    "\n",
    "print(f\"\\nOrder Details for Order ID {order_id_to_search}:\\n{order_details}\" if order_details else f\"\\nOrder ID {order_id_to_search} not found.\")\n"
   ]
  },
  {
   "cell_type": "markdown",
   "metadata": {},
   "source": [
    "# BakeryManagementSystem Class\n",
    "\n",
    "**Purpose:** Represents a bakery management system.  \n",
    "**Function:** Manages orders by providing methods to add orders, retrieve order details, and view all orders.\n",
    "\n",
    "## `__init__` Method\n",
    "\n",
    "**Purpose:** Initializes a new instance of the `BakeryManagementSystem` class  \n",
    "**Function:** Creates an empty dictionary to store orders.\n",
    "\n",
    "## `add_order` Method\n",
    "\n",
    "**Purpose:** Adds a new order to the system.  \n",
    "**Function:** Checks if the order ID already exists. If not, adds the order details to the dictionary.\n",
    "\n",
    "## `get_order_details` Method\n",
    "\n",
    "**Purpose:** Retrieves details for a specific order.  \n",
    "**Function:** Uses the `get` method to retrieve order details based on the order ID.\n",
    "\n",
    "## `view_all_orders` Method\n",
    "\n",
    "**Purpose:** Displays details for all orders.  \n",
    "**Function:** Prints information for each order in a readable format. Prints a message if no orders are available.\n",
    "\n",
    "# Example Usage\n",
    "\n",
    "**Purpose:** Demonstrates how to use the `BakeryManagementSystem` 'class'.  \n",
    "**Function:** Creates an instance of the class, adds orders, views all orders, and retrieves details for a specific order.\n",
    "\n",
    "This code creates a simple bakery management system, allowing the addition and retrieval of orders with basic information. The example usage section showcases how to interact with the system.\n"
   ]
  }
 ],
 "metadata": {
  "kernelspec": {
   "display_name": "python_ml",
   "language": "python",
   "name": "python3"
  },
  "language_info": {
   "codemirror_mode": {
    "name": "ipython",
    "version": 3
   },
   "file_extension": ".py",
   "mimetype": "text/x-python",
   "name": "python",
   "nbconvert_exporter": "python",
   "pygments_lexer": "ipython3",
   "version": "3.11.7"
  }
 },
 "nbformat": 4,
 "nbformat_minor": 2
}
